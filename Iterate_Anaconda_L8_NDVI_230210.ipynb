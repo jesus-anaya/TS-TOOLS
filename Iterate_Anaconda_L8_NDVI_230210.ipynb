{
 "cells": [
  {
   "cell_type": "code",
   "execution_count": 1,
   "metadata": {
    "id": "QjyGaHJSTfNO"
   },
   "outputs": [
    {
     "name": "stdout",
     "output_type": "stream",
     "text": [
      "            RADAR\n",
      "DATE             \n",
      "2017-01-16  0.818\n",
      "2017-02-01  0.761\n",
      "2017-02-17  0.719\n",
      "2017-03-05  0.712\n",
      "2017-03-21  0.746\n",
      "            RADAR\n",
      "DATE             \n",
      "2022-10-13  0.844\n",
      "2022-10-29  0.837\n",
      "2022-11-14  0.842\n",
      "2022-11-30  0.849\n",
      "2022-12-16  0.845\n",
      "Output:\n",
      "RADAR    float64\n",
      "dtype: object\n"
     ]
    },
    {
     "data": {
      "text/plain": [
       "136"
      ]
     },
     "execution_count": 1,
     "metadata": {},
     "output_type": "execute_result"
    }
   ],
   "source": [
    "#STEP 1, OPEN AND READ THE DATASET\n",
    "\n",
    "import pandas as pd\n",
    "import numpy as np\n",
    "import matplotlib.pylab as plt\n",
    "from statsmodels.tsa.stattools import adfuller\n",
    "from statsmodels.tsa.seasonal import seasonal_decompose\n",
    "from statsmodels.tsa.stattools import acf, pacf\n",
    "from statsmodels.tsa.arima_model import ARIMA\n",
    "%matplotlib inline\n",
    "from matplotlib.pylab import rcParams\n",
    "from datetime import datetime\n",
    "import warnings\n",
    "warnings.filterwarnings('ignore')\n",
    "\n",
    "\n",
    "# modify system:time_start and rename to: DATE FORMAT YYYY-MM--DD\n",
    "# follow directions from: https://www.youtube.com/watch?v=ngAE0dME9RA\n",
    "\n",
    "path=r\"C:\\Users\\jesus\\Downloads\\L8_NDVI.csv\"  #to be used with windows and Anaconda\n",
    "#path=\"/content/trend_230201_v20 (1).csv\"\n",
    "\n",
    "\n",
    "\n",
    "pd.read_csv(path)\n",
    "data=pd.read_csv(path)#, parse_dates=['DATE'], index_col=['DATE'])\n",
    "# apply the dtype attribute\n",
    "data = pd.read_csv(path, index_col='DATE', parse_dates=True, infer_datetime_format=True).asfreq(freq='16D')\n",
    "\n",
    "#data['DATE']=pd.to_datetime(data['DATE'], infer_datetime_format=True)\n",
    "#data=data.set_index(['DATE'])\n",
    "\n",
    "data = data.fillna(method = 'ffill')\n",
    "\n",
    "#Determine data for training and RMSE calculation, that will also be used to define parameters.  \n",
    "#The final test model will be with year 2022, not used here.\n",
    "data = data[(data.index>'2017-01-01') & (data.index<'2024-12-31')]\n",
    "\n",
    "\n",
    "print(data.head())\n",
    "print(data.tail())\n",
    "\n",
    "result_data_type = data.dtypes\n",
    "\n",
    "print(\"Output:\")\n",
    "print(result_data_type)\n",
    "len(data)\n"
   ]
  },
  {
   "cell_type": "code",
   "execution_count": 4,
   "metadata": {
    "colab": {
     "base_uri": "https://localhost:8080/"
    },
    "id": "DZiWNv83hex7",
    "outputId": "ca37732e-d25a-4d1b-af8d-f0abd5672d4e"
   },
   "outputs": [],
   "source": [
    "# STEP 2 ITERATION AND MODEL REQUIREMENTS AND \n",
    "\n",
    "import itertools\n",
    "from sklearn.metrics import mean_squared_error\n",
    "import statsmodels.api as sm\n",
    "from statsmodels.tsa.statespace.sarimax import SARIMAX\n",
    "\n",
    "#make sure you use a range for iteration, i.e. (60,60) is not a valid parameter\n",
    "#abc defined by ARIMA 2,0,3\n",
    "\n",
    "#a=range(1,2)\n",
    "#b=range(0,1)\n",
    "#c=range(0,1)\n",
    "d=range(0,3)\n",
    "e=range(0,3)\n",
    "f=range(0,3)\n",
    "g=range(23,24)  #fixed value of 61, 6-days-observation per year, both\n",
    "                #fixed value of 30, 12-days-observations per year, ascending or descending\n",
    "\n",
    "combination=list(itertools.product(d,e,f,g))\n",
    "\n",
    "rmse=[]\n",
    "order1=[]\n",
    "\n",
    "# note below in \"pred\" variable that \"(start=len(train),end=(len(data)-1))\" is equal to the range of dates of the observed \"test\" values\n",
    "# there might be a bias towards selecting parameters that fit the predict values.  This is not a good idea since we have a bias towards creating a model designed to ONLY to predict the test data. It might not work for other dates setup.\n",
    "# this might splitting the sample in three: training, test1 and test 2.  A comparison with test2 is a real test, since the model have not seeing these data.\n",
    "\n",
    "train = data.iloc[:65] # 50%\n",
    "test = data.iloc[65:] # 50% ( observed values not used by SARIMAX that are used to compare with predicted values, note that are used to calculate RMSE)\n",
    "\n",
    "for defg in combination:\n",
    "\ttry:\n",
    "\t\tmodel= SARIMAX(train['RADAR'], order=(5,0,0), seasonal_order= (defg)).fit()\n",
    "\t\tpred=model.predict(start=len(train),end=(len(data)-1))\n",
    "\t\terror=np.sqrt(mean_squared_error(test,pred))\n",
    "\t\torder1.append(defg)\n",
    "\t\trmse.append(error)\n",
    "\t\t\n",
    "\texcept:\n",
    "\t\tcontinue\n",
    "\n",
    "results_itertools=pd.DataFrame(index=order1,data=rmse, columns=['RMSE'])\n",
    "\n"
   ]
  },
  {
   "cell_type": "code",
   "execution_count": 3,
   "metadata": {
    "id": "A19154vowD-Q"
   },
   "outputs": [
    {
     "name": "stdout",
     "output_type": "stream",
     "text": [
      "      Unnamed: 0      RMSE\n",
      "0  (0, 0, 0, 20)  0.115186\n",
      "1  (0, 0, 0, 21)  0.115186\n",
      "2  (0, 0, 0, 22)  0.115186\n",
      "3  (0, 0, 0, 23)  0.115186\n",
      "4  (0, 0, 0, 24)  0.115186\n",
      "        Unnamed: 0      RMSE\n",
      "130  (2, 2, 2, 20)  0.202565\n",
      "131  (2, 2, 2, 21)  0.167056\n",
      "132  (2, 2, 2, 22)  0.044923\n",
      "133  (2, 2, 2, 23)  0.010724\n",
      "134  (2, 2, 2, 24)  0.082557\n"
     ]
    }
   ],
   "source": [
    "results_itertools.to_csv('RMSE_BEST_MODEL_NDVI1.csv')\n",
    "#path1=\"/content/RMSE_BEST_MODEL_TREND.csv\"\n",
    "path1=r\"C:\\Users\\jesus\\Downloads\\RMSE_BEST_MODEL_NDVI1.csv\"  #to be used with windows and Anaconda\n",
    "results_csv=pd.read_csv(path1)\n",
    "print(results_csv.head())\n",
    "print(results_csv.tail())"
   ]
  },
  {
   "cell_type": "code",
   "execution_count": null,
   "metadata": {},
   "outputs": [],
   "source": []
  }
 ],
 "metadata": {
  "colab": {
   "provenance": []
  },
  "kernelspec": {
   "display_name": "Python 3 (ipykernel)",
   "language": "python",
   "name": "python3"
  },
  "language_info": {
   "codemirror_mode": {
    "name": "ipython",
    "version": 3
   },
   "file_extension": ".py",
   "mimetype": "text/x-python",
   "name": "python",
   "nbconvert_exporter": "python",
   "pygments_lexer": "ipython3",
   "version": "3.9.13"
  }
 },
 "nbformat": 4,
 "nbformat_minor": 1
}
